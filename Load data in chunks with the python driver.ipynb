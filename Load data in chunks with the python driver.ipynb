{
 "cells": [
  {
   "cell_type": "markdown",
   "metadata": {},
   "source": [
    "Install the Neo4j Python driver. Docs to be found here: https://neo4j.com/docs/python-manual/current/"
   ]
  },
  {
   "cell_type": "code",
   "execution_count": null,
   "metadata": {},
   "outputs": [],
   "source": [
    "%pip install --upgrade neo4j\n",
    "from neo4j import GraphDatabase, RoutingControl"
   ]
  },
  {
   "cell_type": "code",
   "execution_count": null,
   "metadata": {},
   "outputs": [],
   "source": [
    "import pandas as pd\n",
    "import numpy as np\n",
    "import getpass\n",
    "import os"
   ]
  },
  {
   "cell_type": "code",
   "execution_count": null,
   "metadata": {},
   "outputs": [],
   "source": [
    "URI = input(\"Neo4j Database URI: \") # URI examples: \"neo4j://localhost\", \"neo4j+s://xxx.databases.neo4j.io\"\n",
    "username = 'neo4j' #replace with your username\n",
    "password = getpass.getpass(prompt='Neo4j password: ')\n",
    "AUTH = (username, password)\n",
    "database = 'neo4j' #replace with your database name\n",
    "root_dir = 'source' #replace with your root directory\n",
    "file_name = 'sample.csv' #replace with your file name\n",
    "rows_per_batch = 100000 #specify your desired batch size"
   ]
  },
  {
   "cell_type": "markdown",
   "metadata": {},
   "source": [
    "Connect to the database"
   ]
  },
  {
   "cell_type": "code",
   "execution_count": null,
   "metadata": {},
   "outputs": [],
   "source": [
    "with GraphDatabase.driver(URI, auth=AUTH) as driver:\n",
    "    driver.verify_connectivity()"
   ]
  },
  {
   "cell_type": "markdown",
   "metadata": {},
   "source": [
    "Load csv to pandas dataframes"
   ]
  },
  {
   "cell_type": "code",
   "execution_count": null,
   "metadata": {},
   "outputs": [],
   "source": [
    "df = pd.DataFrame()\n",
    "df = pd.read_csv(os.path.join(root_dir, file_name), header=0, sep=',', encoding='utf-8', converters={'id':int, 'col1':float, 'col2':float, 'col3':float})"
   ]
  },
  {
   "cell_type": "markdown",
   "metadata": {},
   "source": [
    "Check the shape and content"
   ]
  },
  {
   "cell_type": "code",
   "execution_count": null,
   "metadata": {},
   "outputs": [],
   "source": [
    "print(df.shape)\n",
    "df.head()"
   ]
  },
  {
   "cell_type": "markdown",
   "metadata": {},
   "source": [
    "Load data to the graph in batches"
   ]
  },
  {
   "cell_type": "code",
   "execution_count": null,
   "metadata": {},
   "outputs": [],
   "source": [
    "chunks = df.shape[0]/rows_per_batch\n",
    "\n",
    "with GraphDatabase.driver(URI, auth=AUTH) as driver:\n",
    "    for chunk in np.array_split(df, chunks.__ceil__()):\n",
    "        summary = driver.execute_query(\"\"\"\n",
    "                    UNWIND range(0, $len - 1) AS i \n",
    "                    CREATE (s:Label1{\n",
    "                        nodeId: $data['id'][i],\n",
    "                        prop1: $data['col1'][i],\n",
    "                        prop2: $data['col2'][i],\n",
    "                        prop3: $data['col3'][i]})\n",
    "                    CREATE (t:Label2{\n",
    "                        nodeId: $data['id'][i],\n",
    "                        prop1: $data['col1'][i],\n",
    "                        prop2: $data['col2'][i],\n",
    "                        prop3: $data['col3'][i]})\n",
    "                    CREATE (s)-[:RELATIONSHIP]->(t)\n",
    "                    \"\"\",\n",
    "                    data=chunk,\n",
    "                    len=len(chunk),\n",
    "                    database_=database,\n",
    "                    routing_= RoutingControl.WRITE\n",
    "                ).summary\n",
    "        print(\"Created {nodes_created} nodes and {relationships_created} relationships and set {property_updates} properties in {time} ms.\".format(\n",
    "        nodes_created=summary.counters.nodes_created,\n",
    "        relationships_created=summary.counters.relationships_created,\n",
    "        property_updates=summary.counters.properties_set,\n",
    "        time=summary.result_available_after\n",
    "        ))"
   ]
  }
 ],
 "metadata": {
  "kernelspec": {
   "display_name": "base",
   "language": "python",
   "name": "python3"
  },
  "language_info": {
   "codemirror_mode": {
    "name": "ipython",
    "version": 3
   },
   "file_extension": ".py",
   "mimetype": "text/x-python",
   "name": "python",
   "nbconvert_exporter": "python",
   "pygments_lexer": "ipython3",
   "version": "3.9.13"
  }
 },
 "nbformat": 4,
 "nbformat_minor": 2
}
